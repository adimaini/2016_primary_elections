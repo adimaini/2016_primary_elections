{
 "cells": [
  {
   "cell_type": "markdown",
   "metadata": {
    "ExecuteTime": {
     "end_time": "2019-11-08T01:16:30.077285Z",
     "start_time": "2019-11-08T01:16:30.071982Z"
    }
   },
   "source": [
    "# Predicting political party choice of US county by county demographic and socio-economic data\n",
    "\n",
    "### by Adi Maini"
   ]
  },
  {
   "cell_type": "markdown",
   "metadata": {},
   "source": [
    "Data Source: \n",
    "    from Kaggle: \n",
    "    https://www.kaggle.com/benhamner/2016-us-election#county_facts.csv"
   ]
  },
  {
   "cell_type": "code",
   "execution_count": 184,
   "metadata": {
    "ExecuteTime": {
     "end_time": "2019-12-19T21:47:18.025196Z",
     "start_time": "2019-12-19T21:47:18.021442Z"
    }
   },
   "outputs": [],
   "source": [
    "import pandas as pd\n",
    "import numpy as np\n",
    "import seaborn as sns\n",
    "import matplotlib.pyplot as plt"
   ]
  },
  {
   "cell_type": "code",
   "execution_count": 238,
   "metadata": {
    "ExecuteTime": {
     "end_time": "2019-12-19T22:09:21.740789Z",
     "start_time": "2019-12-19T22:09:21.704909Z"
    }
   },
   "outputs": [],
   "source": [
    "#  importing US county facts data\n",
    "county_df = pd.read_csv('./Data/2016-us-election/county_facts.csv')\n",
    "\n",
    "\n",
    "#. renaming some columns for EDA\n",
    "county_df.rename(mapper={'PST045214': 'Population', \n",
    "                  'AGE295214': 'P_under_18',\n",
    "                  'AGE775214': 'P_over_65',\n",
    "                  'SEX255214': 'F_percent',\n",
    "                  'RHI125214': 'White_percent',\n",
    "                  'RHI225214': 'Black_percent', \n",
    "                  'RHI325214': 'Native_percent', \n",
    "                  'RHI425214': 'Asian_percent',\n",
    "                  'RHI725214': 'Hispanic_percent', \n",
    "                  'POP815213': 'Other_languages', \n",
    "                  'VET605213': 'Veterans', \n",
    "                  'INC110213': 'Median_house_income', \n",
    "                  'PVY020213': 'below_poverty',\n",
    "                  'POP060210': 'Pop_per_sq'}, axis=1, inplace=True)\n",
    "#  drop state appreviation column since state name column is available\n",
    "county_df = county_df.dropna(axis=0, subset=['state_abbreviation'])"
   ]
  },
  {
   "cell_type": "code",
   "execution_count": 186,
   "metadata": {
    "ExecuteTime": {
     "end_time": "2019-12-19T21:47:18.569082Z",
     "start_time": "2019-12-19T21:47:18.070468Z"
    }
   },
   "outputs": [],
   "source": [
    "# import election data\n",
    "primary_df = pd.read_csv('./Data/2016-us-election/primary_results.csv', )\n",
    "\n",
    "# keep only the data point from candidate with most votes from each fips\n",
    "primary_df = primary_df.loc[primary_df.groupby(by='fips')['votes'].idxmax()]"
   ]
  },
  {
   "cell_type": "code",
   "execution_count": 187,
   "metadata": {
    "ExecuteTime": {
     "end_time": "2019-12-19T21:47:18.593862Z",
     "start_time": "2019-12-19T21:47:18.571100Z"
    }
   },
   "outputs": [],
   "source": [
    "# merging both data frames\n",
    "election_county_facts_df = pd.merge(primary_df, county_df, how='left', on='fips')\n",
    "del election_county_facts_df['state_abbreviation_x']\n",
    "del election_county_facts_df['state_abbreviation_y']"
   ]
  },
  {
   "cell_type": "code",
   "execution_count": 188,
   "metadata": {
    "ExecuteTime": {
     "end_time": "2019-12-19T21:47:18.611915Z",
     "start_time": "2019-12-19T21:47:18.595500Z"
    },
    "scrolled": false
   },
   "outputs": [
    {
     "name": "stdout",
     "output_type": "stream",
     "text": [
      "<class 'pandas.core.frame.DataFrame'>\n",
      "Int64Index: 4207 entries, 0 to 4206\n",
      "Data columns (total 59 columns):\n",
      "state                  4207 non-null object\n",
      "county                 4207 non-null object\n",
      "fips                   4207 non-null float64\n",
      "party                  4207 non-null object\n",
      "candidate              4207 non-null object\n",
      "votes                  4207 non-null int64\n",
      "fraction_votes         4207 non-null float64\n",
      "area_name              2798 non-null object\n",
      "Population             2798 non-null float64\n",
      "PST040210              2798 non-null float64\n",
      "PST120214              2798 non-null float64\n",
      "POP010210              2798 non-null float64\n",
      "AGE135214              2798 non-null float64\n",
      "P_under_18             2798 non-null float64\n",
      "P_over_65              2798 non-null float64\n",
      "F_percent              2798 non-null float64\n",
      "White_percent          2798 non-null float64\n",
      "Black_percent          2798 non-null float64\n",
      "Native_percent         2798 non-null float64\n",
      "Asian_percent          2798 non-null float64\n",
      "RHI525214              2798 non-null float64\n",
      "RHI625214              2798 non-null float64\n",
      "Hispanic_percent       2798 non-null float64\n",
      "RHI825214              2798 non-null float64\n",
      "POP715213              2798 non-null float64\n",
      "POP645213              2798 non-null float64\n",
      "Other_languages        2798 non-null float64\n",
      "EDU635213              2798 non-null float64\n",
      "EDU685213              2798 non-null float64\n",
      "Veterans               2798 non-null float64\n",
      "LFE305213              2798 non-null float64\n",
      "HSG010214              2798 non-null float64\n",
      "HSG445213              2798 non-null float64\n",
      "HSG096213              2798 non-null float64\n",
      "HSG495213              2798 non-null float64\n",
      "HSD410213              2798 non-null float64\n",
      "HSD310213              2798 non-null float64\n",
      "INC910213              2798 non-null float64\n",
      "Median_house_income    2798 non-null float64\n",
      "below_poverty          2798 non-null float64\n",
      "BZA010213              2798 non-null float64\n",
      "BZA110213              2798 non-null float64\n",
      "BZA115213              2798 non-null float64\n",
      "NES010213              2798 non-null float64\n",
      "SBO001207              2798 non-null float64\n",
      "SBO315207              2798 non-null float64\n",
      "SBO115207              2798 non-null float64\n",
      "SBO215207              2798 non-null float64\n",
      "SBO515207              2798 non-null float64\n",
      "SBO415207              2798 non-null float64\n",
      "SBO015207              2798 non-null float64\n",
      "MAN450207              2798 non-null float64\n",
      "WTN220207              2798 non-null float64\n",
      "RTN130207              2798 non-null float64\n",
      "RTN131207              2798 non-null float64\n",
      "AFN120207              2798 non-null float64\n",
      "BPS030214              2798 non-null float64\n",
      "LND110210              2798 non-null float64\n",
      "Pop_per_sq             2798 non-null float64\n",
      "dtypes: float64(53), int64(1), object(5)\n",
      "memory usage: 1.9+ MB\n"
     ]
    }
   ],
   "source": [
    "election_county_facts_df.info()"
   ]
  },
  {
   "cell_type": "markdown",
   "metadata": {},
   "source": [
    "## Lot of counties are missing demographic data. For the purposes of this project, we will drop any counties with missing data/"
   ]
  },
  {
   "cell_type": "code",
   "execution_count": 189,
   "metadata": {
    "ExecuteTime": {
     "end_time": "2019-12-19T21:47:18.621223Z",
     "start_time": "2019-12-19T21:47:18.613457Z"
    }
   },
   "outputs": [],
   "source": [
    "election_county_facts_df = election_county_facts_df.dropna(axis=0)"
   ]
  },
  {
   "cell_type": "code",
   "execution_count": 190,
   "metadata": {
    "ExecuteTime": {
     "end_time": "2019-12-19T21:47:18.639204Z",
     "start_time": "2019-12-19T21:47:18.622836Z"
    }
   },
   "outputs": [
    {
     "name": "stdout",
     "output_type": "stream",
     "text": [
      "<class 'pandas.core.frame.DataFrame'>\n",
      "Int64Index: 2798 entries, 0 to 2797\n",
      "Data columns (total 59 columns):\n",
      "state                  2798 non-null object\n",
      "county                 2798 non-null object\n",
      "fips                   2798 non-null float64\n",
      "party                  2798 non-null object\n",
      "candidate              2798 non-null object\n",
      "votes                  2798 non-null int64\n",
      "fraction_votes         2798 non-null float64\n",
      "area_name              2798 non-null object\n",
      "Population             2798 non-null float64\n",
      "PST040210              2798 non-null float64\n",
      "PST120214              2798 non-null float64\n",
      "POP010210              2798 non-null float64\n",
      "AGE135214              2798 non-null float64\n",
      "P_under_18             2798 non-null float64\n",
      "P_over_65              2798 non-null float64\n",
      "F_percent              2798 non-null float64\n",
      "White_percent          2798 non-null float64\n",
      "Black_percent          2798 non-null float64\n",
      "Native_percent         2798 non-null float64\n",
      "Asian_percent          2798 non-null float64\n",
      "RHI525214              2798 non-null float64\n",
      "RHI625214              2798 non-null float64\n",
      "Hispanic_percent       2798 non-null float64\n",
      "RHI825214              2798 non-null float64\n",
      "POP715213              2798 non-null float64\n",
      "POP645213              2798 non-null float64\n",
      "Other_languages        2798 non-null float64\n",
      "EDU635213              2798 non-null float64\n",
      "EDU685213              2798 non-null float64\n",
      "Veterans               2798 non-null float64\n",
      "LFE305213              2798 non-null float64\n",
      "HSG010214              2798 non-null float64\n",
      "HSG445213              2798 non-null float64\n",
      "HSG096213              2798 non-null float64\n",
      "HSG495213              2798 non-null float64\n",
      "HSD410213              2798 non-null float64\n",
      "HSD310213              2798 non-null float64\n",
      "INC910213              2798 non-null float64\n",
      "Median_house_income    2798 non-null float64\n",
      "below_poverty          2798 non-null float64\n",
      "BZA010213              2798 non-null float64\n",
      "BZA110213              2798 non-null float64\n",
      "BZA115213              2798 non-null float64\n",
      "NES010213              2798 non-null float64\n",
      "SBO001207              2798 non-null float64\n",
      "SBO315207              2798 non-null float64\n",
      "SBO115207              2798 non-null float64\n",
      "SBO215207              2798 non-null float64\n",
      "SBO515207              2798 non-null float64\n",
      "SBO415207              2798 non-null float64\n",
      "SBO015207              2798 non-null float64\n",
      "MAN450207              2798 non-null float64\n",
      "WTN220207              2798 non-null float64\n",
      "RTN130207              2798 non-null float64\n",
      "RTN131207              2798 non-null float64\n",
      "AFN120207              2798 non-null float64\n",
      "BPS030214              2798 non-null float64\n",
      "LND110210              2798 non-null float64\n",
      "Pop_per_sq             2798 non-null float64\n",
      "dtypes: float64(53), int64(1), object(5)\n",
      "memory usage: 1.3+ MB\n"
     ]
    }
   ],
   "source": [
    "election_county_facts_df.info()"
   ]
  },
  {
   "cell_type": "code",
   "execution_count": 227,
   "metadata": {
    "ExecuteTime": {
     "end_time": "2019-12-19T22:02:43.489175Z",
     "start_time": "2019-12-19T22:02:43.482708Z"
    }
   },
   "outputs": [],
   "source": [
    "election_county_facts_df['Veteran_percent'] = election_county_facts_df['Veterans']/election_county_facts_df['Population']\n",
    "del election_county_facts_df['Veterans']"
   ]
  },
  {
   "cell_type": "code",
   "execution_count": 192,
   "metadata": {
    "ExecuteTime": {
     "end_time": "2019-12-19T21:47:18.679134Z",
     "start_time": "2019-12-19T21:47:18.651121Z"
    }
   },
   "outputs": [
    {
     "data": {
      "text/html": [
       "<div>\n",
       "<style scoped>\n",
       "    .dataframe tbody tr th:only-of-type {\n",
       "        vertical-align: middle;\n",
       "    }\n",
       "\n",
       "    .dataframe tbody tr th {\n",
       "        vertical-align: top;\n",
       "    }\n",
       "\n",
       "    .dataframe thead th {\n",
       "        text-align: right;\n",
       "    }\n",
       "</style>\n",
       "<table border=\"1\" class=\"dataframe\">\n",
       "  <thead>\n",
       "    <tr style=\"text-align: right;\">\n",
       "      <th></th>\n",
       "      <th>state</th>\n",
       "      <th>county</th>\n",
       "      <th>fips</th>\n",
       "      <th>party</th>\n",
       "      <th>candidate</th>\n",
       "      <th>votes</th>\n",
       "      <th>fraction_votes</th>\n",
       "      <th>area_name</th>\n",
       "      <th>Population</th>\n",
       "      <th>PST040210</th>\n",
       "      <th>...</th>\n",
       "      <th>SBO015207</th>\n",
       "      <th>MAN450207</th>\n",
       "      <th>WTN220207</th>\n",
       "      <th>RTN130207</th>\n",
       "      <th>RTN131207</th>\n",
       "      <th>AFN120207</th>\n",
       "      <th>BPS030214</th>\n",
       "      <th>LND110210</th>\n",
       "      <th>Pop_per_sq</th>\n",
       "      <th>Veteran_percent</th>\n",
       "    </tr>\n",
       "  </thead>\n",
       "  <tbody>\n",
       "    <tr>\n",
       "      <th>2087</th>\n",
       "      <td>South Dakota</td>\n",
       "      <td>Oglala Lakota</td>\n",
       "      <td>46113.0</td>\n",
       "      <td>Democrat</td>\n",
       "      <td>Bernie Sanders</td>\n",
       "      <td>574</td>\n",
       "      <td>0.575</td>\n",
       "      <td>Shannon County</td>\n",
       "      <td>14218.0</td>\n",
       "      <td>13586.0</td>\n",
       "      <td>...</td>\n",
       "      <td>0.0</td>\n",
       "      <td>0.0</td>\n",
       "      <td>0.0</td>\n",
       "      <td>39229.0</td>\n",
       "      <td>2883.0</td>\n",
       "      <td>18096.0</td>\n",
       "      <td>0.0</td>\n",
       "      <td>2093.90</td>\n",
       "      <td>6.5</td>\n",
       "      <td>0.047756</td>\n",
       "    </tr>\n",
       "    <tr>\n",
       "      <th>985</th>\n",
       "      <td>Louisiana</td>\n",
       "      <td>East Carroll</td>\n",
       "      <td>22035.0</td>\n",
       "      <td>Democrat</td>\n",
       "      <td>Hillary Clinton</td>\n",
       "      <td>508</td>\n",
       "      <td>0.880</td>\n",
       "      <td>East Carroll Parish</td>\n",
       "      <td>7487.0</td>\n",
       "      <td>7759.0</td>\n",
       "      <td>...</td>\n",
       "      <td>0.0</td>\n",
       "      <td>0.0</td>\n",
       "      <td>0.0</td>\n",
       "      <td>34009.0</td>\n",
       "      <td>4117.0</td>\n",
       "      <td>2074.0</td>\n",
       "      <td>0.0</td>\n",
       "      <td>420.70</td>\n",
       "      <td>18.4</td>\n",
       "      <td>0.033525</td>\n",
       "    </tr>\n",
       "    <tr>\n",
       "      <th>1165</th>\n",
       "      <td>Mississippi</td>\n",
       "      <td>Humphreys</td>\n",
       "      <td>28053.0</td>\n",
       "      <td>Democrat</td>\n",
       "      <td>Hillary Clinton</td>\n",
       "      <td>2894</td>\n",
       "      <td>0.942</td>\n",
       "      <td>Humphreys County</td>\n",
       "      <td>8741.0</td>\n",
       "      <td>9375.0</td>\n",
       "      <td>...</td>\n",
       "      <td>27.6</td>\n",
       "      <td>0.0</td>\n",
       "      <td>15127.0</td>\n",
       "      <td>81350.0</td>\n",
       "      <td>8198.0</td>\n",
       "      <td>4395.0</td>\n",
       "      <td>0.0</td>\n",
       "      <td>418.49</td>\n",
       "      <td>22.4</td>\n",
       "      <td>0.057087</td>\n",
       "    </tr>\n",
       "    <tr>\n",
       "      <th>2091</th>\n",
       "      <td>South Dakota</td>\n",
       "      <td>Todd</td>\n",
       "      <td>46121.0</td>\n",
       "      <td>Democrat</td>\n",
       "      <td>Bernie Sanders</td>\n",
       "      <td>524</td>\n",
       "      <td>0.562</td>\n",
       "      <td>Todd County</td>\n",
       "      <td>9882.0</td>\n",
       "      <td>9612.0</td>\n",
       "      <td>...</td>\n",
       "      <td>25.7</td>\n",
       "      <td>0.0</td>\n",
       "      <td>0.0</td>\n",
       "      <td>39515.0</td>\n",
       "      <td>3911.0</td>\n",
       "      <td>1719.0</td>\n",
       "      <td>0.0</td>\n",
       "      <td>1388.56</td>\n",
       "      <td>6.9</td>\n",
       "      <td>0.050293</td>\n",
       "    </tr>\n",
       "    <tr>\n",
       "      <th>378</th>\n",
       "      <td>Georgia</td>\n",
       "      <td>Clay</td>\n",
       "      <td>13061.0</td>\n",
       "      <td>Democrat</td>\n",
       "      <td>Hillary Clinton</td>\n",
       "      <td>297</td>\n",
       "      <td>0.858</td>\n",
       "      <td>Clay County</td>\n",
       "      <td>3102.0</td>\n",
       "      <td>3183.0</td>\n",
       "      <td>...</td>\n",
       "      <td>42.5</td>\n",
       "      <td>0.0</td>\n",
       "      <td>1533.0</td>\n",
       "      <td>11021.0</td>\n",
       "      <td>3465.0</td>\n",
       "      <td>0.0</td>\n",
       "      <td>5.0</td>\n",
       "      <td>195.38</td>\n",
       "      <td>16.3</td>\n",
       "      <td>0.075435</td>\n",
       "    </tr>\n",
       "    <tr>\n",
       "      <th>2046</th>\n",
       "      <td>South Dakota</td>\n",
       "      <td>Corson</td>\n",
       "      <td>46031.0</td>\n",
       "      <td>Democrat</td>\n",
       "      <td>Bernie Sanders</td>\n",
       "      <td>148</td>\n",
       "      <td>0.563</td>\n",
       "      <td>Corson County</td>\n",
       "      <td>4182.0</td>\n",
       "      <td>4050.0</td>\n",
       "      <td>...</td>\n",
       "      <td>0.0</td>\n",
       "      <td>0.0</td>\n",
       "      <td>0.0</td>\n",
       "      <td>10591.0</td>\n",
       "      <td>2536.0</td>\n",
       "      <td>94.0</td>\n",
       "      <td>0.0</td>\n",
       "      <td>2469.69</td>\n",
       "      <td>1.6</td>\n",
       "      <td>0.075562</td>\n",
       "    </tr>\n",
       "    <tr>\n",
       "      <th>2307</th>\n",
       "      <td>Texas</td>\n",
       "      <td>Hudspeth</td>\n",
       "      <td>48229.0</td>\n",
       "      <td>Democrat</td>\n",
       "      <td>Hillary Clinton</td>\n",
       "      <td>147</td>\n",
       "      <td>0.538</td>\n",
       "      <td>Hudspeth County</td>\n",
       "      <td>3211.0</td>\n",
       "      <td>3476.0</td>\n",
       "      <td>...</td>\n",
       "      <td>0.0</td>\n",
       "      <td>0.0</td>\n",
       "      <td>0.0</td>\n",
       "      <td>12480.0</td>\n",
       "      <td>3898.0</td>\n",
       "      <td>1994.0</td>\n",
       "      <td>0.0</td>\n",
       "      <td>4570.98</td>\n",
       "      <td>0.8</td>\n",
       "      <td>0.057303</td>\n",
       "    </tr>\n",
       "    <tr>\n",
       "      <th>1164</th>\n",
       "      <td>Mississippi</td>\n",
       "      <td>Holmes</td>\n",
       "      <td>28051.0</td>\n",
       "      <td>Democrat</td>\n",
       "      <td>Hillary Clinton</td>\n",
       "      <td>3301</td>\n",
       "      <td>0.929</td>\n",
       "      <td>Holmes County</td>\n",
       "      <td>18459.0</td>\n",
       "      <td>19478.0</td>\n",
       "      <td>...</td>\n",
       "      <td>25.9</td>\n",
       "      <td>207973.0</td>\n",
       "      <td>31091.0</td>\n",
       "      <td>114372.0</td>\n",
       "      <td>5599.0</td>\n",
       "      <td>5530.0</td>\n",
       "      <td>7.0</td>\n",
       "      <td>756.70</td>\n",
       "      <td>25.4</td>\n",
       "      <td>0.031096</td>\n",
       "    </tr>\n",
       "    <tr>\n",
       "      <th>2097</th>\n",
       "      <td>South Dakota</td>\n",
       "      <td>Ziebach</td>\n",
       "      <td>46137.0</td>\n",
       "      <td>Democrat</td>\n",
       "      <td>Bernie Sanders</td>\n",
       "      <td>132</td>\n",
       "      <td>0.589</td>\n",
       "      <td>Ziebach County</td>\n",
       "      <td>2826.0</td>\n",
       "      <td>2801.0</td>\n",
       "      <td>...</td>\n",
       "      <td>0.0</td>\n",
       "      <td>0.0</td>\n",
       "      <td>0.0</td>\n",
       "      <td>0.0</td>\n",
       "      <td>0.0</td>\n",
       "      <td>0.0</td>\n",
       "      <td>0.0</td>\n",
       "      <td>1961.27</td>\n",
       "      <td>1.4</td>\n",
       "      <td>0.046001</td>\n",
       "    </tr>\n",
       "    <tr>\n",
       "      <th>1198</th>\n",
       "      <td>Mississippi</td>\n",
       "      <td>Quitman</td>\n",
       "      <td>28119.0</td>\n",
       "      <td>Democrat</td>\n",
       "      <td>Hillary Clinton</td>\n",
       "      <td>986</td>\n",
       "      <td>0.853</td>\n",
       "      <td>Quitman County</td>\n",
       "      <td>7678.0</td>\n",
       "      <td>8223.0</td>\n",
       "      <td>...</td>\n",
       "      <td>0.0</td>\n",
       "      <td>0.0</td>\n",
       "      <td>19137.0</td>\n",
       "      <td>24719.0</td>\n",
       "      <td>2815.0</td>\n",
       "      <td>1903.0</td>\n",
       "      <td>1.0</td>\n",
       "      <td>405.01</td>\n",
       "      <td>20.3</td>\n",
       "      <td>0.062907</td>\n",
       "    </tr>\n",
       "  </tbody>\n",
       "</table>\n",
       "<p>10 rows × 60 columns</p>\n",
       "</div>"
      ],
      "text/plain": [
       "             state         county     fips     party        candidate  votes  \\\n",
       "2087  South Dakota  Oglala Lakota  46113.0  Democrat   Bernie Sanders    574   \n",
       "985      Louisiana   East Carroll  22035.0  Democrat  Hillary Clinton    508   \n",
       "1165   Mississippi      Humphreys  28053.0  Democrat  Hillary Clinton   2894   \n",
       "2091  South Dakota           Todd  46121.0  Democrat   Bernie Sanders    524   \n",
       "378        Georgia           Clay  13061.0  Democrat  Hillary Clinton    297   \n",
       "2046  South Dakota         Corson  46031.0  Democrat   Bernie Sanders    148   \n",
       "2307         Texas       Hudspeth  48229.0  Democrat  Hillary Clinton    147   \n",
       "1164   Mississippi         Holmes  28051.0  Democrat  Hillary Clinton   3301   \n",
       "2097  South Dakota        Ziebach  46137.0  Democrat   Bernie Sanders    132   \n",
       "1198   Mississippi        Quitman  28119.0  Democrat  Hillary Clinton    986   \n",
       "\n",
       "      fraction_votes            area_name  Population  PST040210  ...  \\\n",
       "2087           0.575       Shannon County     14218.0    13586.0  ...   \n",
       "985            0.880  East Carroll Parish      7487.0     7759.0  ...   \n",
       "1165           0.942     Humphreys County      8741.0     9375.0  ...   \n",
       "2091           0.562          Todd County      9882.0     9612.0  ...   \n",
       "378            0.858          Clay County      3102.0     3183.0  ...   \n",
       "2046           0.563        Corson County      4182.0     4050.0  ...   \n",
       "2307           0.538      Hudspeth County      3211.0     3476.0  ...   \n",
       "1164           0.929        Holmes County     18459.0    19478.0  ...   \n",
       "2097           0.589       Ziebach County      2826.0     2801.0  ...   \n",
       "1198           0.853       Quitman County      7678.0     8223.0  ...   \n",
       "\n",
       "      SBO015207  MAN450207  WTN220207  RTN130207  RTN131207  AFN120207  \\\n",
       "2087        0.0        0.0        0.0    39229.0     2883.0    18096.0   \n",
       "985         0.0        0.0        0.0    34009.0     4117.0     2074.0   \n",
       "1165       27.6        0.0    15127.0    81350.0     8198.0     4395.0   \n",
       "2091       25.7        0.0        0.0    39515.0     3911.0     1719.0   \n",
       "378        42.5        0.0     1533.0    11021.0     3465.0        0.0   \n",
       "2046        0.0        0.0        0.0    10591.0     2536.0       94.0   \n",
       "2307        0.0        0.0        0.0    12480.0     3898.0     1994.0   \n",
       "1164       25.9   207973.0    31091.0   114372.0     5599.0     5530.0   \n",
       "2097        0.0        0.0        0.0        0.0        0.0        0.0   \n",
       "1198        0.0        0.0    19137.0    24719.0     2815.0     1903.0   \n",
       "\n",
       "      BPS030214  LND110210  Pop_per_sq  Veteran_percent  \n",
       "2087        0.0    2093.90         6.5         0.047756  \n",
       "985         0.0     420.70        18.4         0.033525  \n",
       "1165        0.0     418.49        22.4         0.057087  \n",
       "2091        0.0    1388.56         6.9         0.050293  \n",
       "378         5.0     195.38        16.3         0.075435  \n",
       "2046        0.0    2469.69         1.6         0.075562  \n",
       "2307        0.0    4570.98         0.8         0.057303  \n",
       "1164        7.0     756.70        25.4         0.031096  \n",
       "2097        0.0    1961.27         1.4         0.046001  \n",
       "1198        1.0     405.01        20.3         0.062907  \n",
       "\n",
       "[10 rows x 60 columns]"
      ]
     },
     "execution_count": 192,
     "metadata": {},
     "output_type": "execute_result"
    }
   ],
   "source": [
    "# primary results for 10 highest veteran population counties\n",
    "election_county_facts_df.sort_values(by='below_poverty', ascending=False).head(10)"
   ]
  },
  {
   "cell_type": "code",
   "execution_count": 193,
   "metadata": {
    "ExecuteTime": {
     "end_time": "2019-12-19T21:47:18.857711Z",
     "start_time": "2019-12-19T21:47:18.680750Z"
    }
   },
   "outputs": [
    {
     "data": {
      "text/plain": [
       "Text(0, 0.5, 'Candidates')"
      ]
     },
     "execution_count": 193,
     "metadata": {},
     "output_type": "execute_result"
    },
    {
     "data": {
      "image/png": "[encoded data removed]",
      "text/plain": [
       "<Figure size 432x288 with 1 Axes>"
      ]
     },
     "metadata": {
      "needs_background": "light"
     },
     "output_type": "display_data"
    }
   ],
   "source": [
    "plt.hist(election_county_facts_df['candidate'])\n",
    "plt.xlabel('Number of Counties')\n",
    "plt.ylabel('Candidates')"
   ]
  },
  {
   "cell_type": "code",
   "execution_count": 194,
   "metadata": {
    "ExecuteTime": {
     "end_time": "2019-12-19T21:47:18.885509Z",
     "start_time": "2019-12-19T21:47:18.859473Z"
    },
    "scrolled": false
   },
   "outputs": [
    {
     "data": {
      "text/html": [
       "<div>\n",
       "<style scoped>\n",
       "    .dataframe tbody tr th:only-of-type {\n",
       "        vertical-align: middle;\n",
       "    }\n",
       "\n",
       "    .dataframe tbody tr th {\n",
       "        vertical-align: top;\n",
       "    }\n",
       "\n",
       "    .dataframe thead th {\n",
       "        text-align: right;\n",
       "    }\n",
       "</style>\n",
       "<table border=\"1\" class=\"dataframe\">\n",
       "  <thead>\n",
       "    <tr style=\"text-align: right;\">\n",
       "      <th></th>\n",
       "      <th>state</th>\n",
       "      <th>county</th>\n",
       "      <th>fips</th>\n",
       "      <th>party</th>\n",
       "      <th>candidate</th>\n",
       "      <th>votes</th>\n",
       "      <th>fraction_votes</th>\n",
       "      <th>area_name</th>\n",
       "      <th>Population</th>\n",
       "      <th>PST040210</th>\n",
       "      <th>...</th>\n",
       "      <th>SBO015207</th>\n",
       "      <th>MAN450207</th>\n",
       "      <th>WTN220207</th>\n",
       "      <th>RTN130207</th>\n",
       "      <th>RTN131207</th>\n",
       "      <th>AFN120207</th>\n",
       "      <th>BPS030214</th>\n",
       "      <th>LND110210</th>\n",
       "      <th>Pop_per_sq</th>\n",
       "      <th>Veteran_percent</th>\n",
       "    </tr>\n",
       "  </thead>\n",
       "  <tbody>\n",
       "    <tr>\n",
       "      <th>2087</th>\n",
       "      <td>South Dakota</td>\n",
       "      <td>Oglala Lakota</td>\n",
       "      <td>46113.0</td>\n",
       "      <td>Democrat</td>\n",
       "      <td>Bernie Sanders</td>\n",
       "      <td>574</td>\n",
       "      <td>0.575</td>\n",
       "      <td>Shannon County</td>\n",
       "      <td>14218.0</td>\n",
       "      <td>13586.0</td>\n",
       "      <td>...</td>\n",
       "      <td>0.0</td>\n",
       "      <td>0.0</td>\n",
       "      <td>0.0</td>\n",
       "      <td>39229.0</td>\n",
       "      <td>2883.0</td>\n",
       "      <td>18096.0</td>\n",
       "      <td>0.0</td>\n",
       "      <td>2093.90</td>\n",
       "      <td>6.5</td>\n",
       "      <td>0.047756</td>\n",
       "    </tr>\n",
       "    <tr>\n",
       "      <th>2091</th>\n",
       "      <td>South Dakota</td>\n",
       "      <td>Todd</td>\n",
       "      <td>46121.0</td>\n",
       "      <td>Democrat</td>\n",
       "      <td>Bernie Sanders</td>\n",
       "      <td>524</td>\n",
       "      <td>0.562</td>\n",
       "      <td>Todd County</td>\n",
       "      <td>9882.0</td>\n",
       "      <td>9612.0</td>\n",
       "      <td>...</td>\n",
       "      <td>25.7</td>\n",
       "      <td>0.0</td>\n",
       "      <td>0.0</td>\n",
       "      <td>39515.0</td>\n",
       "      <td>3911.0</td>\n",
       "      <td>1719.0</td>\n",
       "      <td>0.0</td>\n",
       "      <td>1388.56</td>\n",
       "      <td>6.9</td>\n",
       "      <td>0.050293</td>\n",
       "    </tr>\n",
       "    <tr>\n",
       "      <th>2742</th>\n",
       "      <td>Wisconsin</td>\n",
       "      <td>Menominee</td>\n",
       "      <td>55078.0</td>\n",
       "      <td>Democrat</td>\n",
       "      <td>Bernie Sanders</td>\n",
       "      <td>355</td>\n",
       "      <td>0.633</td>\n",
       "      <td>Menominee County</td>\n",
       "      <td>4522.0</td>\n",
       "      <td>4232.0</td>\n",
       "      <td>...</td>\n",
       "      <td>22.9</td>\n",
       "      <td>0.0</td>\n",
       "      <td>0.0</td>\n",
       "      <td>5207.0</td>\n",
       "      <td>1142.0</td>\n",
       "      <td>0.0</td>\n",
       "      <td>14.0</td>\n",
       "      <td>357.61</td>\n",
       "      <td>11.8</td>\n",
       "      <td>0.075630</td>\n",
       "    </tr>\n",
       "    <tr>\n",
       "      <th>1170</th>\n",
       "      <td>Mississippi</td>\n",
       "      <td>Jefferson</td>\n",
       "      <td>28063.0</td>\n",
       "      <td>Democrat</td>\n",
       "      <td>Hillary Clinton</td>\n",
       "      <td>1550</td>\n",
       "      <td>0.890</td>\n",
       "      <td>Jefferson County</td>\n",
       "      <td>7599.0</td>\n",
       "      <td>7732.0</td>\n",
       "      <td>...</td>\n",
       "      <td>53.1</td>\n",
       "      <td>0.0</td>\n",
       "      <td>0.0</td>\n",
       "      <td>18620.0</td>\n",
       "      <td>2073.0</td>\n",
       "      <td>0.0</td>\n",
       "      <td>0.0</td>\n",
       "      <td>519.93</td>\n",
       "      <td>14.9</td>\n",
       "      <td>0.040005</td>\n",
       "    </tr>\n",
       "    <tr>\n",
       "      <th>1149</th>\n",
       "      <td>Mississippi</td>\n",
       "      <td>Claiborne</td>\n",
       "      <td>28021.0</td>\n",
       "      <td>Democrat</td>\n",
       "      <td>Hillary Clinton</td>\n",
       "      <td>1411</td>\n",
       "      <td>0.903</td>\n",
       "      <td>Claiborne County</td>\n",
       "      <td>9080.0</td>\n",
       "      <td>9598.0</td>\n",
       "      <td>...</td>\n",
       "      <td>14.5</td>\n",
       "      <td>0.0</td>\n",
       "      <td>0.0</td>\n",
       "      <td>39271.0</td>\n",
       "      <td>3675.0</td>\n",
       "      <td>4726.0</td>\n",
       "      <td>0.0</td>\n",
       "      <td>487.41</td>\n",
       "      <td>19.7</td>\n",
       "      <td>0.037555</td>\n",
       "    </tr>\n",
       "    <tr>\n",
       "      <th>1164</th>\n",
       "      <td>Mississippi</td>\n",
       "      <td>Holmes</td>\n",
       "      <td>28051.0</td>\n",
       "      <td>Democrat</td>\n",
       "      <td>Hillary Clinton</td>\n",
       "      <td>3301</td>\n",
       "      <td>0.929</td>\n",
       "      <td>Holmes County</td>\n",
       "      <td>18459.0</td>\n",
       "      <td>19478.0</td>\n",
       "      <td>...</td>\n",
       "      <td>25.9</td>\n",
       "      <td>207973.0</td>\n",
       "      <td>31091.0</td>\n",
       "      <td>114372.0</td>\n",
       "      <td>5599.0</td>\n",
       "      <td>5530.0</td>\n",
       "      <td>7.0</td>\n",
       "      <td>756.70</td>\n",
       "      <td>25.4</td>\n",
       "      <td>0.031096</td>\n",
       "    </tr>\n",
       "    <tr>\n",
       "      <th>43</th>\n",
       "      <td>Alabama</td>\n",
       "      <td>Macon</td>\n",
       "      <td>1087.0</td>\n",
       "      <td>Democrat</td>\n",
       "      <td>Hillary Clinton</td>\n",
       "      <td>4293</td>\n",
       "      <td>0.892</td>\n",
       "      <td>Macon County</td>\n",
       "      <td>19425.0</td>\n",
       "      <td>21450.0</td>\n",
       "      <td>...</td>\n",
       "      <td>0.0</td>\n",
       "      <td>0.0</td>\n",
       "      <td>0.0</td>\n",
       "      <td>87509.0</td>\n",
       "      <td>3932.0</td>\n",
       "      <td>19354.0</td>\n",
       "      <td>1.0</td>\n",
       "      <td>608.89</td>\n",
       "      <td>35.2</td>\n",
       "      <td>0.085560</td>\n",
       "    </tr>\n",
       "    <tr>\n",
       "      <th>2596</th>\n",
       "      <td>Virginia</td>\n",
       "      <td>Petersburg</td>\n",
       "      <td>51730.0</td>\n",
       "      <td>Democrat</td>\n",
       "      <td>Hillary Clinton</td>\n",
       "      <td>4099</td>\n",
       "      <td>0.854</td>\n",
       "      <td>Petersburg city</td>\n",
       "      <td>32701.0</td>\n",
       "      <td>32420.0</td>\n",
       "      <td>...</td>\n",
       "      <td>22.6</td>\n",
       "      <td>595891.0</td>\n",
       "      <td>356054.0</td>\n",
       "      <td>324219.0</td>\n",
       "      <td>9823.0</td>\n",
       "      <td>36635.0</td>\n",
       "      <td>8.0</td>\n",
       "      <td>22.93</td>\n",
       "      <td>1413.7</td>\n",
       "      <td>0.082322</td>\n",
       "    </tr>\n",
       "    <tr>\n",
       "      <th>2039</th>\n",
       "      <td>South Dakota</td>\n",
       "      <td>Buffalo</td>\n",
       "      <td>46017.0</td>\n",
       "      <td>Democrat</td>\n",
       "      <td>Hillary Clinton</td>\n",
       "      <td>110</td>\n",
       "      <td>0.608</td>\n",
       "      <td>Buffalo County</td>\n",
       "      <td>2077.0</td>\n",
       "      <td>1912.0</td>\n",
       "      <td>...</td>\n",
       "      <td>0.0</td>\n",
       "      <td>0.0</td>\n",
       "      <td>0.0</td>\n",
       "      <td>0.0</td>\n",
       "      <td>0.0</td>\n",
       "      <td>0.0</td>\n",
       "      <td>0.0</td>\n",
       "      <td>471.38</td>\n",
       "      <td>4.1</td>\n",
       "      <td>0.038036</td>\n",
       "    </tr>\n",
       "    <tr>\n",
       "      <th>31</th>\n",
       "      <td>Alabama</td>\n",
       "      <td>Greene</td>\n",
       "      <td>1063.0</td>\n",
       "      <td>Democrat</td>\n",
       "      <td>Hillary Clinton</td>\n",
       "      <td>2714</td>\n",
       "      <td>0.901</td>\n",
       "      <td>Greene County</td>\n",
       "      <td>8553.0</td>\n",
       "      <td>9045.0</td>\n",
       "      <td>...</td>\n",
       "      <td>36.1</td>\n",
       "      <td>0.0</td>\n",
       "      <td>0.0</td>\n",
       "      <td>33639.0</td>\n",
       "      <td>3697.0</td>\n",
       "      <td>1226.0</td>\n",
       "      <td>4.0</td>\n",
       "      <td>647.11</td>\n",
       "      <td>14.0</td>\n",
       "      <td>0.058693</td>\n",
       "    </tr>\n",
       "  </tbody>\n",
       "</table>\n",
       "<p>10 rows × 60 columns</p>\n",
       "</div>"
      ],
      "text/plain": [
       "             state         county     fips     party        candidate  votes  \\\n",
       "2087  South Dakota  Oglala Lakota  46113.0  Democrat   Bernie Sanders    574   \n",
       "2091  South Dakota           Todd  46121.0  Democrat   Bernie Sanders    524   \n",
       "2742     Wisconsin      Menominee  55078.0  Democrat   Bernie Sanders    355   \n",
       "1170   Mississippi      Jefferson  28063.0  Democrat  Hillary Clinton   1550   \n",
       "1149   Mississippi      Claiborne  28021.0  Democrat  Hillary Clinton   1411   \n",
       "1164   Mississippi         Holmes  28051.0  Democrat  Hillary Clinton   3301   \n",
       "43         Alabama          Macon   1087.0  Democrat  Hillary Clinton   4293   \n",
       "2596      Virginia     Petersburg  51730.0  Democrat  Hillary Clinton   4099   \n",
       "2039  South Dakota        Buffalo  46017.0  Democrat  Hillary Clinton    110   \n",
       "31         Alabama         Greene   1063.0  Democrat  Hillary Clinton   2714   \n",
       "\n",
       "      fraction_votes         area_name  Population  PST040210  ...  SBO015207  \\\n",
       "2087           0.575    Shannon County     14218.0    13586.0  ...        0.0   \n",
       "2091           0.562       Todd County      9882.0     9612.0  ...       25.7   \n",
       "2742           0.633  Menominee County      4522.0     4232.0  ...       22.9   \n",
       "1170           0.890  Jefferson County      7599.0     7732.0  ...       53.1   \n",
       "1149           0.903  Claiborne County      9080.0     9598.0  ...       14.5   \n",
       "1164           0.929     Holmes County     18459.0    19478.0  ...       25.9   \n",
       "43             0.892      Macon County     19425.0    21450.0  ...        0.0   \n",
       "2596           0.854   Petersburg city     32701.0    32420.0  ...       22.6   \n",
       "2039           0.608    Buffalo County      2077.0     1912.0  ...        0.0   \n",
       "31             0.901     Greene County      8553.0     9045.0  ...       36.1   \n",
       "\n",
       "      MAN450207  WTN220207  RTN130207  RTN131207  AFN120207  BPS030214  \\\n",
       "2087        0.0        0.0    39229.0     2883.0    18096.0        0.0   \n",
       "2091        0.0        0.0    39515.0     3911.0     1719.0        0.0   \n",
       "2742        0.0        0.0     5207.0     1142.0        0.0       14.0   \n",
       "1170        0.0        0.0    18620.0     2073.0        0.0        0.0   \n",
       "1149        0.0        0.0    39271.0     3675.0     4726.0        0.0   \n",
       "1164   207973.0    31091.0   114372.0     5599.0     5530.0        7.0   \n",
       "43          0.0        0.0    87509.0     3932.0    19354.0        1.0   \n",
       "2596   595891.0   356054.0   324219.0     9823.0    36635.0        8.0   \n",
       "2039        0.0        0.0        0.0        0.0        0.0        0.0   \n",
       "31          0.0        0.0    33639.0     3697.0     1226.0        4.0   \n",
       "\n",
       "      LND110210  Pop_per_sq  Veteran_percent  \n",
       "2087    2093.90         6.5         0.047756  \n",
       "2091    1388.56         6.9         0.050293  \n",
       "2742     357.61        11.8         0.075630  \n",
       "1170     519.93        14.9         0.040005  \n",
       "1149     487.41        19.7         0.037555  \n",
       "1164     756.70        25.4         0.031096  \n",
       "43       608.89        35.2         0.085560  \n",
       "2596      22.93      1413.7         0.082322  \n",
       "2039     471.38         4.1         0.038036  \n",
       "31       647.11        14.0         0.058693  \n",
       "\n",
       "[10 rows x 60 columns]"
      ]
     },
     "execution_count": 194,
     "metadata": {},
     "output_type": "execute_result"
    }
   ],
   "source": [
    "# primary results for 10 counties with most non-white voters\n",
    "election_county_facts_df.sort_values(by='White_percent', ascending=True).head(10)"
   ]
  },
  {
   "cell_type": "code",
   "execution_count": 195,
   "metadata": {
    "ExecuteTime": {
     "end_time": "2019-12-19T21:47:19.044129Z",
     "start_time": "2019-12-19T21:47:18.887395Z"
    }
   },
   "outputs": [
    {
     "data": {
      "text/plain": [
       "Text(0, 0.5, 'Number of Counties')"
      ]
     },
     "execution_count": 195,
     "metadata": {},
     "output_type": "execute_result"
    },
    {
     "data": {
      "image/png": "[encoded data removed]",
      "text/plain": [
       "<Figure size 432x288 with 1 Axes>"
      ]
     },
     "metadata": {
      "needs_background": "light"
     },
     "output_type": "display_data"
    }
   ],
   "source": [
    "# primary results for 50 highest median income counties\n",
    "df2 = election_county_facts_df.sort_values(by='below_poverty', ascending=False).head(50)\n",
    "plt.hist(df2['candidate'])\n",
    "plt.xlabel('Candidates ')\n",
    "plt.ylabel('Number of Counties')"
   ]
  },
  {
   "cell_type": "markdown",
   "metadata": {},
   "source": [
    "## Predicting political party choice of a county using KNN Classifier "
   ]
  },
  {
   "cell_type": "code",
   "execution_count": 228,
   "metadata": {
    "ExecuteTime": {
     "end_time": "2019-12-19T22:04:06.774785Z",
     "start_time": "2019-12-19T22:04:06.733720Z"
    },
    "scrolled": false
   },
   "outputs": [],
   "source": [
    "X = election_county_facts_df.drop(['party', 'votes', 'county', 'fips', 'candidate', 'area_name', 'fraction_votes'], axis=1)\n",
    "Y = election_county_facts_df['party']\n",
    "\n",
    "#  encode 'party'variables\n",
    "from sklearn.preprocessing import LabelEncoder\n",
    "le = LabelEncoder()\n",
    "Y_le = le.fit_transform(Y)\n",
    "\n",
    "#. convert 'state' feature to dummies\n",
    "X_clean = pd.get_dummies(X)\n",
    "\n",
    "#  scaling variables\n",
    "from sklearn.preprocessing import StandardScaler\n",
    "scalar = StandardScaler()\n",
    "X_scaled = scalar.fit_transform(X_clean)"
   ]
  },
  {
   "cell_type": "code",
   "execution_count": 229,
   "metadata": {
    "ExecuteTime": {
     "end_time": "2019-12-19T22:04:07.398628Z",
     "start_time": "2019-12-19T22:04:07.392501Z"
    }
   },
   "outputs": [
    {
     "data": {
      "text/plain": [
       "Index(['state', 'Population', 'PST040210', 'PST120214', 'POP010210',\n",
       "       'AGE135214', 'P_under_18', 'P_over_65', 'F_percent', 'White_percent',\n",
       "       'Black_percent', 'Native_percent', 'Asian_percent', 'RHI525214',\n",
       "       'RHI625214', 'Hispanic_percent', 'RHI825214', 'POP715213', 'POP645213',\n",
       "       'Other_languages', 'EDU635213', 'EDU685213', 'LFE305213', 'HSG010214',\n",
       "       'HSG445213', 'HSG096213', 'HSG495213', 'HSD410213', 'HSD310213',\n",
       "       'INC910213', 'Median_house_income', 'below_poverty', 'BZA010213',\n",
       "       'BZA110213', 'BZA115213', 'NES010213', 'SBO001207', 'SBO315207',\n",
       "       'SBO115207', 'SBO215207', 'SBO515207', 'SBO415207', 'SBO015207',\n",
       "       'MAN450207', 'WTN220207', 'RTN130207', 'RTN131207', 'AFN120207',\n",
       "       'BPS030214', 'LND110210', 'Pop_per_sq', 'Veteran_percent'],\n",
       "      dtype='object')"
      ]
     },
     "execution_count": 229,
     "metadata": {},
     "output_type": "execute_result"
    }
   ],
   "source": [
    "X.columns"
   ]
  },
  {
   "cell_type": "code",
   "execution_count": 230,
   "metadata": {
    "ExecuteTime": {
     "end_time": "2019-12-19T22:04:07.790252Z",
     "start_time": "2019-12-19T22:04:07.604470Z"
    }
   },
   "outputs": [
    {
     "data": {
      "text/plain": [
       "Text(0, 0.5, 'Amount of variance explained')"
      ]
     },
     "execution_count": 230,
     "metadata": {},
     "output_type": "execute_result"
    },
    {
     "data": {
      "image/png": "[encoded data removed]",
      "text/plain": [
       "<Figure size 432x288 with 1 Axes>"
      ]
     },
     "metadata": {
      "needs_background": "light"
     },
     "output_type": "display_data"
    }
   ],
   "source": [
    "#. using PCA to reduce colinearity between all features and to reduce the dimensionality.\n",
    "#. as a consequence of this technique, we will not have interpretability of what the most \n",
    "#. import demographics were. \n",
    "from sklearn.decomposition import PCA\n",
    "pca = PCA().fit(X_scaled)\n",
    "plt.plot(np.cumsum(pca.explained_variance_ratio_))\n",
    "plt.xlabel('n components of PCA')\n",
    "plt.ylabel('Amount of variance explained')"
   ]
  },
  {
   "cell_type": "markdown",
   "metadata": {
    "ExecuteTime": {
     "end_time": "2019-12-19T20:00:54.562950Z",
     "start_time": "2019-12-19T20:00:54.559610Z"
    }
   },
   "source": [
    "## Seems like choosing 70 components explains more than 95% of variance in the features"
   ]
  },
  {
   "cell_type": "code",
   "execution_count": 231,
   "metadata": {
    "ExecuteTime": {
     "end_time": "2019-12-19T22:04:08.045968Z",
     "start_time": "2019-12-19T22:04:07.997183Z"
    }
   },
   "outputs": [],
   "source": [
    "#. transforming the dataset with PCA using n_components = 70\n",
    "pca = PCA(n_components=70)\n",
    "X_dataset = pca.fit_transform(X_scaled)"
   ]
  },
  {
   "cell_type": "code",
   "execution_count": 232,
   "metadata": {
    "ExecuteTime": {
     "end_time": "2019-12-19T22:04:08.195495Z",
     "start_time": "2019-12-19T22:04:08.185797Z"
    },
    "scrolled": true
   },
   "outputs": [
    {
     "data": {
      "text/plain": [
       "party\n",
       "Democrat       929\n",
       "Republican    1869\n",
       "Name: county, dtype: int64"
      ]
     },
     "execution_count": 232,
     "metadata": {},
     "output_type": "execute_result"
    }
   ],
   "source": [
    "#. there is an imbalance of data for our response class\n",
    "election_county_facts_df.groupby(by='party').count()['county']"
   ]
  },
  {
   "cell_type": "code",
   "execution_count": 233,
   "metadata": {
    "ExecuteTime": {
     "end_time": "2019-12-19T22:04:08.428988Z",
     "start_time": "2019-12-19T22:04:08.394153Z"
    },
    "scrolled": false
   },
   "outputs": [],
   "source": [
    "#  train-test split\n",
    "from sklearn.model_selection import train_test_split\n",
    "x_train, x_test, Y_train, Y_test = train_test_split(X_dataset, Y, random_state=40)\n",
    "\n",
    "#. Addressing class imbalance by upsampling 'democratic' class data to match the number of 'republican' class data\n",
    "combined_train = pd.DataFrame(np.concatenate([x_train, Y_train[:,None]], axis=1))\n",
    "\n",
    "#  split republican and democratic class data\n",
    "dem = combined_train[combined_train.iloc[:, -1] == 'Democrat']\n",
    "rep = combined_train[combined_train.iloc[:, -1] == 'Republican']\n",
    "\n",
    "#. upscale 'democratic' class data\n",
    "from sklearn.utils import resample\n",
    "dem_upsampled = resample(dem, n_samples=len(rep), random_state=40)\n",
    "\n",
    "#. combine upscaled democratic class to republican class\n",
    "rebalanced_data = pd.concat([dem_upsampled, rep])\n",
    "\n",
    "#. breaking up rebalanced data into x_train and Y_train again\n",
    "x_train = rebalanced_data.iloc[:,:-1]\n",
    "Y_train = rebalanced_data.iloc[:, -1]"
   ]
  },
  {
   "cell_type": "code",
   "execution_count": 234,
   "metadata": {
    "ExecuteTime": {
     "end_time": "2019-12-19T22:04:08.593780Z",
     "start_time": "2019-12-19T22:04:08.585492Z"
    }
   },
   "outputs": [
    {
     "data": {
      "text/plain": [
       "Republican    1414\n",
       "Democrat      1414\n",
       "Name: 70, dtype: int64"
      ]
     },
     "execution_count": 234,
     "metadata": {},
     "output_type": "execute_result"
    }
   ],
   "source": [
    "rebalanced_data.iloc[:, -1].value_counts()"
   ]
  },
  {
   "cell_type": "code",
   "execution_count": 235,
   "metadata": {
    "ExecuteTime": {
     "end_time": "2019-12-19T22:07:03.542185Z",
     "start_time": "2019-12-19T22:04:08.809288Z"
    }
   },
   "outputs": [
    {
     "data": {
      "text/plain": [
       "Text(0, 0.5, 'Model Score')"
      ]
     },
     "execution_count": 235,
     "metadata": {},
     "output_type": "execute_result"
    },
    {
     "data": {
      "image/png": "[encoded data removed]",
      "text/plain": [
       "<Figure size 432x288 with 1 Axes>"
      ]
     },
     "metadata": {
      "needs_background": "light"
     },
     "output_type": "display_data"
    }
   ],
   "source": [
    "#  knn model\n",
    "from sklearn.neighbors import KNeighborsClassifier\n",
    "knn_model = KNeighborsClassifier(n_neighbors=7)\n",
    "knn_model_fit = knn_model.fit(x_train, Y_train)\n",
    "\n",
    "#  knn model score\n",
    "prediction = knn_model.predict(x_test)\n",
    "from sklearn.metrics import accuracy_score, classification_report, confusion_matrix\n",
    "accuracy = accuracy_score(Y_test, prediction)\n",
    "\n",
    "#  K-fold cross-validation and optimal k-tuning\n",
    "from sklearn.model_selection import cross_val_score\n",
    "k_range = range(1,200)\n",
    "k_scores_list = []\n",
    "for k in k_range: \n",
    "    knn_model = KNeighborsClassifier(n_neighbors=k)\n",
    "    scores = cross_val_score(knn_model, X_dataset, Y, cv=10, scoring='accuracy')\n",
    "    k_scores_list.append(scores.mean())\n",
    "\n",
    "    \n",
    "#  plot k_range and k_scores_list\n",
    "import matplotlib.pyplot as plt\n",
    "plt.plot(k_range, k_scores_list)\n",
    "plt.xlabel('k_values')\n",
    "plt.ylabel('Model Score')"
   ]
  },
  {
   "cell_type": "markdown",
   "metadata": {},
   "source": [
    "## Optimal k-value seems to be around 90. We will use this to build our final KNN classifier model. "
   ]
  },
  {
   "cell_type": "code",
   "execution_count": 236,
   "metadata": {
    "ExecuteTime": {
     "end_time": "2019-12-19T22:07:04.423518Z",
     "start_time": "2019-12-19T22:07:03.544366Z"
    },
    "scrolled": true
   },
   "outputs": [
    {
     "name": "stdout",
     "output_type": "stream",
     "text": [
      "              precision    recall  f1-score   support\n",
      "\n",
      "    Democrat       0.71      0.78      0.74       245\n",
      "  Republican       0.88      0.83      0.85       455\n",
      "\n",
      "    accuracy                           0.81       700\n",
      "   macro avg       0.79      0.81      0.80       700\n",
      "weighted avg       0.82      0.81      0.81       700\n",
      "\n"
     ]
    }
   ],
   "source": [
    "knn_model = KNeighborsClassifier(n_neighbors=90)\n",
    "scores = cross_val_score(knn_model, X_dataset, Y_le, cv=10, scoring='accuracy')\n",
    "k_scores_list.append(scores.mean())\n",
    "print(classification_report(Y_test, prediction))"
   ]
  },
  {
   "cell_type": "code",
   "execution_count": 237,
   "metadata": {
    "ExecuteTime": {
     "end_time": "2019-12-19T22:07:04.432047Z",
     "start_time": "2019-12-19T22:07:04.426173Z"
    }
   },
   "outputs": [
    {
     "name": "stdout",
     "output_type": "stream",
     "text": [
      "[[191  54]\n",
      " [ 77 378]]\n"
     ]
    }
   ],
   "source": [
    "print(confusion_matrix(Y_test, prediction))"
   ]
  },
  {
   "cell_type": "markdown",
   "metadata": {},
   "source": [
    "## The model accuracy proves to be around 81% at predicting political choice of a county based on county demographic data. "
   ]
  }
 ],
 "metadata": {
  "kernelspec": {
   "display_name": "Python 3",
   "language": "python",
   "name": "python3"
  },
  "language_info": {
   "codemirror_mode": {
    "name": "ipython",
    "version": 3
   },
   "file_extension": ".py",
   "mimetype": "text/x-python",
   "name": "python",
   "nbconvert_exporter": "python",
   "pygments_lexer": "ipython3",
   "version": "3.7.4"
  }
 },
 "nbformat": 4,
 "nbformat_minor": 2
}
